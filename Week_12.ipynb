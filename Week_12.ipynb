{
  "nbformat": 4,
  "nbformat_minor": 0,
  "metadata": {
    "colab": {
      "provenance": [],
      "authorship_tag": "ABX9TyPv6+diSMIoFHXUCaSfb6Sx",
      "include_colab_link": true
    },
    "kernelspec": {
      "name": "python3",
      "display_name": "Python 3"
    },
    "language_info": {
      "name": "python"
    }
  },
  "cells": [
    {
      "cell_type": "markdown",
      "metadata": {
        "id": "view-in-github",
        "colab_type": "text"
      },
      "source": [
        "<a href=\"https://colab.research.google.com/github/luluatina/praktikum-algoritma-week-12/blob/main/Week_12.ipynb\" target=\"_parent\"><img src=\"https://colab.research.google.com/assets/colab-badge.svg\" alt=\"Open In Colab\"/></a>"
      ]
    },
    {
      "cell_type": "code",
      "execution_count": 1,
      "metadata": {
        "colab": {
          "base_uri": "https://localhost:8080/"
        },
        "id": "w7n8kmBOsCYp",
        "outputId": "c6c766ca-be1c-46af-9744-d77b1ae1893a"
      },
      "outputs": [
        {
          "output_type": "stream",
          "name": "stdout",
          "text": [
            "Pilih bangun datar yang ingin dihitung luasnya:\n",
            "1. Persegi\n",
            "2. Lingkaran\n",
            "Masukkan pilihan (1/2/3): 2\n",
            "Masukkan jari-jari lingkaran: sepuluh\n",
            "Error: invalid literal for int() with base 10: 'sepuluh'. Hanya boleh memasukkan angka\n",
            "Masukkan jari-jari lingkaran: \n",
            "Error: Tidak boleh kosong. Hanya boleh memasukkan angka\n",
            "Masukkan jari-jari lingkaran: 10\n",
            "Luas Lingkaran: 314.1592653589793 unit persegi\n"
          ]
        }
      ],
      "source": [
        "# Exception Handling pada program bangun datar\n",
        "\n",
        "def input_integer(prompt):\n",
        "    while True:\n",
        "        try:\n",
        "            user_input = input(prompt)\n",
        "            if not user_input:  # Jika input kosong\n",
        "                raise ValueError(\"Tidak boleh kosong\")\n",
        "            return int(user_input)\n",
        "        except ValueError as e:\n",
        "            print(f\"Error: {e}. Hanya boleh memasukkan angka\")\n",
        "\n",
        "def hitung_luas_persegi():\n",
        "    sisi = input_integer(\"Masukkan panjang sisi persegi: \")\n",
        "    return sisi * sisi\n",
        "\n",
        "def hitung_luas_lingkaran():\n",
        "    import math\n",
        "    jari_jari = input_integer(\"Masukkan jari-jari lingkaran: \")\n",
        "    return math.pi * jari_jari ** 2\n",
        "\n",
        "def menu():\n",
        "    print(\"Pilih bangun datar yang ingin dihitung luasnya:\")\n",
        "    print(\"1. Persegi\")\n",
        "    print(\"2. Lingkaran\")\n",
        "\n",
        "    try:\n",
        "        pilihan = int(input(\"Masukkan pilihan (1/2/3): \"))\n",
        "        if pilihan == 1:\n",
        "            print(f\"Luas Persegi: {hitung_luas_persegi()} unit persegi\")\n",
        "        elif pilihan == 2:\n",
        "            print(f\"Luas Lingkaran: {hitung_luas_lingkaran()} unit persegi\")\n",
        "        else:\n",
        "            print(\"Pilihan tidak valid\")\n",
        "    except ValueError:\n",
        "        print(\"Error: Pilihan hanya boleh angka.\")\n",
        "\n",
        "# Changed _name_ to __name__\n",
        "if __name__ == \"__main__\":\n",
        "    menu()"
      ]
    },
    {
      "cell_type": "code",
      "source": [
        "# Exception Handling pada program jumlah digit ganjil dan genap\n",
        "\n",
        "def input_npm():\n",
        "    while True:\n",
        "        try:\n",
        "            npm = input(\"Masukkan NPM Anda: \")\n",
        "\n",
        "            # Cek jika input kosong\n",
        "            if not npm:\n",
        "                raise ValueError(\"NPM tidak boleh kosong\")\n",
        "\n",
        "            # Cek jika input bukan hanya angka\n",
        "            if not npm.isdigit():\n",
        "                raise ValueError(\"NPM hanya boleh berisi angka\")\n",
        "\n",
        "            return npm\n",
        "        except ValueError as e:\n",
        "            print(f\"Error: {e}\")\n",
        "\n",
        "# Main program\n",
        "def hitung_digit_genap_ganjil():\n",
        "    npm = input_npm()\n",
        "\n",
        "    genap = 0\n",
        "    ganjil = 0\n",
        "\n",
        "    for i in npm:\n",
        "        try:\n",
        "            if int(i) % 2 == 0:\n",
        "                genap += 1\n",
        "            else:\n",
        "                ganjil += 1\n",
        "        except ValueError:\n",
        "            # Menangani kemungkinan jika karakter bukan angka (walaupun sudah ditangani sebelumnya)\n",
        "            print(\"Terdapat karakter yang tidak valid dalam NPM.\")\n",
        "\n",
        "    print(\"Jumlah digit genap adalah:\", genap)\n",
        "    print(\"Jumlah digit ganjil adalah:\", ganjil)\n",
        "\n",
        "# Memanggil fungsi untuk menghitung\n",
        "hitung_digit_genap_ganjil()"
      ],
      "metadata": {
        "colab": {
          "base_uri": "https://localhost:8080/"
        },
        "id": "Nb9nI8SYxtKQ",
        "outputId": "100a12a9-e5b1-4a71-e85e-d370e02ddd39"
      },
      "execution_count": null,
      "outputs": [
        {
          "output_type": "stream",
          "name": "stdout",
          "text": [
            "Masukkan NPM Anda: emoh\n",
            "Error: NPM hanya boleh berisi angka\n",
            "Masukkan NPM Anda: \n",
            "Error: NPM tidak boleh kosong\n",
            "Masukkan NPM Anda: yaudah iya\n",
            "Error: NPM hanya boleh berisi angka\n",
            "Masukkan NPM Anda: 2420506034\n",
            "Jumlah digit genap adalah: 8\n",
            "Jumlah digit ganjil adalah: 2\n"
          ]
        }
      ]
    }
  ]
}